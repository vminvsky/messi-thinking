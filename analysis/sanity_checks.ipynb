{
 "cells": [
  {
   "cell_type": "code",
   "execution_count": null,
   "metadata": {},
   "outputs": [],
   "source": [
    "import glob\n",
    "\n",
    "models = ['taco_instruct_llama_8b_single', 'taco_instruct_llama_8b_single_slerp_0.7', 'taco_instruct_llama_8b_single_slerp_0.90', 'taco_instruct_llama_8b_single_slerp_0.5', 'llama-3.1-8b']\n",
    "\n",
    "model_paths = {\n",
    "    'taco_instruct_llama_8b_single': \"/scratch/gpfs/vv7118/projects/messi-thinking/embeddings/taco_instruct_llama_8b_single\",\n",
    "    'taco_instruct_llama_8b_single_slerp_0.7': \"/scratch/gpfs/vv7118/projects/messi-thinking/embeddings/taco_instruct_llama_8b_single_slerp_0.7\",\n",
    "    'taco_instruct_llama_8b_single_slerp_0.90': \"/scratch/gpfs/vv7118/projects/messi-thinking/embeddings/taco_instruct_llama_8b_single_slerp_0.90\",\n",
    "    'taco_instruct_llama_8b_single_slerp_0.5': \"/scratch/gpfs/vv7118/projects/messi-thinking/embeddings/taco_instruct_llama_8b_single_slerp_0.5\",\n",
    "    'llama-3.1-8b': \"/scratch/gpfs/bs6865/messi-thinking/embeddings/llama-3.1-8b\"\n",
    "}\n",
    "\n",
    "for model in models: \n",
    "    print(model)\n",
    "    print(glob.glob(f\"/scratch/gpfs/vv7118/projects/messi-thinking/{model}/*\"))"
   ]
  }
 ],
 "metadata": {
  "language_info": {
   "name": "python"
  }
 },
 "nbformat": 4,
 "nbformat_minor": 2
}
